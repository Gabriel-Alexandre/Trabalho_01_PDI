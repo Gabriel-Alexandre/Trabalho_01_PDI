{
 "cells": [
  {
   "cell_type": "markdown",
   "id": "5a5a871c",
   "metadata": {},
   "source": [
    "## Trabalho 1 PDI\n",
    "\n",
    "- **Alunos:** Anderson Coutinho, Gabriel Alexandre e Laura Francine.\n",
    "- **Prazo de entrega:** Até 9h do dia 24/10.\n",
    "\n",
    "### Objetivos:\n",
    "\n",
    "1. Sistema de conversão de imagem.\n",
    "2. Relatório. (PDF, introdução (contextualização e apresentação do tema, fundamentação teórica, objetivos), materiais e métodos (descrição das atividades desenvolvidas e das ferramentas e conhecimentos utilizados), resultados, discussão (problemas e dificuldades encontradas, comentários críticos sobre os resultados) e conclusão)."
   ]
  },
  {
   "cell_type": "markdown",
   "id": "897a67e9",
   "metadata": {},
   "source": [
    "# ---------------------------------------------------------------------------------"
   ]
  },
  {
   "cell_type": "markdown",
   "id": "77447da9",
   "metadata": {},
   "source": [
    "![image](apple.png)"
   ]
  },
  {
   "cell_type": "markdown",
   "id": "d7809378",
   "metadata": {},
   "source": [
    "## Sistema"
   ]
  },
  {
   "cell_type": "code",
   "execution_count": null,
   "id": "7f14eef5",
   "metadata": {},
   "outputs": [],
   "source": [
    "from PIL import Image \n",
    "from PIL import ImageFilter\n",
    "from PIL import ImageEnhance\n",
    "from PIL import ImageOps\n",
    "import numpy as np\n",
    "import matplotlib.pyplot as plt\n",
    "import os"
   ]
  },
  {
   "cell_type": "code",
   "execution_count": null,
   "id": "b81c6af3",
   "metadata": {},
   "outputs": [],
   "source": [
    "Shapes = Image.open('apple.png')\n",
    "print('Mode:',Shapes.mode)\n",
    "print('Size:',Shapes.size)\n",
    "print('Type:',type(Shapes))"
   ]
  },
  {
   "cell_type": "code",
   "execution_count": null,
   "id": "711e2e83",
   "metadata": {},
   "outputs": [],
   "source": [
    "plt.imshow(Shapes)"
   ]
  },
  {
   "cell_type": "markdown",
   "id": "f37e907a",
   "metadata": {},
   "source": [
    "### 1- Conversão RGB-YIQ-RGB (cuidado com os limites de R, G e B na volta!)."
   ]
  },
  {
   "cell_type": "code",
   "execution_count": null,
   "id": "e4e09b6f",
   "metadata": {},
   "outputs": [],
   "source": [
    "ShapesArray = np.array(Shapes)\n",
    "\n",
    "def convertToYIQ(image):\n",
    "    yiq = np.array(image, dtype=float)\n",
    "    \n",
    "    yiq[:,:,0] = (image[:,:,0] * 0.299) + (image[:,:,1] * 0.587) + (image[:,:,2] * 0.114)\n",
    "    yiq[:,:,1] = (image[:,:,0] * 0.596) - (image[:,:,1] * 0.274) - (image[:,:,2] * 0.322)\n",
    "    yiq[:,:,2] = (image[:,:,0] * 0.211) - (image[:,:,1] * 0.523) + (image[:,:,2] * 0.312)\n",
    "    return yiq\n",
    "\n",
    "def convertToRGB(image):\n",
    "    rgb = np.array(image, dtype=int)\n",
    "\n",
    "    rgb[:,:,0] = image[:,:,0] + (image[:,:,1] * 0.956) + (image[:,:,2] * 0.621)\n",
    "    rgb[:,:,1] = image[:,:,0] - (image[:,:,1] * 0.272) - (image[:,:,2] * 0.647)\n",
    "    rgb[:,:,2] = image[:,:,0] - (image[:,:,1] * 1.106) + (image[:,:,2] * 1.703)\n",
    "    \n",
    "    rgb = np.clip(rgb, 0, 255)\n",
    "    return rgb\n",
    "\n",
    "imageYIQ = convertToYIQ(ShapesArray)\n",
    "imageRGB = convertToRGB(imageYIQ)\n",
    "plt.imshow(imageRGB)"
   ]
  },
  {
   "cell_type": "markdown",
   "id": "cbc1f738",
   "metadata": {},
   "source": [
    "### 2- Negativo. Duas formas de aplicação devem ser testadas: em RGB (banda a banda) e na banda Y, seguida de conversão para RGB."
   ]
  },
  {
   "cell_type": "code",
   "execution_count": null,
   "id": "b4919acc",
   "metadata": {
    "scrolled": true
   },
   "outputs": [],
   "source": [
    "ShapesArray = np.array(Shapes)\n",
    "\n",
    "def convertToNegativeRGB(image):\n",
    "    negativeRGB = np.array(image, dtype=int)\n",
    "    \n",
    "    negativeRGB[:,:,0] = 255 - image[:,:,0]\n",
    "    negativeRGB[:,:,1] = 255 - image[:,:,1]\n",
    "    negativeRGB[:,:,2] = 255 - image[:,:,2]\n",
    "    \n",
    "    return negativeRGB\n",
    "\n",
    "def convertToNegativeYIQ(image):\n",
    "    negativeYIQ = np.array(image, dtype=float)\n",
    "    \n",
    "    negativeYIQ[:,:,0] = 255 - image[:,:,0]\n",
    "    \n",
    "    return negativeYIQ\n",
    "\n",
    "#plt.imshow(convertToNegativeRGB(ShapesArray))   \n",
    "\n",
    "imageYIQ = convertToYIQ(ShapesArray)\n",
    "imageYIQ = convertToNegativeYIQ(imageYIQ)\n",
    "imageRGB = convertToRGB(imageYIQ)\n",
    "plt.imshow(imageRGB) "
   ]
  },
  {
   "cell_type": "markdown",
   "id": "25ea01cc",
   "metadata": {},
   "source": [
    "### 3- Correlação m x n sobre R, G e B, com offset, e filtro e pivô definidos em um arquivo (txt) a parte. Testar com filtros Média e Sobel horizontal e vertical, e explicar os resultados. Para visualização do resultado do Sobel, utilize valor absoluto seguido por expansão de histograma para [0, 255]."
   ]
  },
  {
   "cell_type": "code",
   "execution_count": null,
   "id": "78bf8d5b",
   "metadata": {},
   "outputs": [],
   "source": [
    "import cv2\n",
    "import numpy as np\n",
    "\n",
    "imagem = cv2.imread(\"apple.png\")\n",
    "imagem = cv2.resize(imagem, (800,600))\n",
    "#filt = np.array([(1,1,1),(1,1,1),(1,1,1)])*(1/9) #filtro 3X3\n",
    "filt = np.array([(1,1,1,1,1),(1,1,1,1,1),(1,1,1,1,1),(1,1,1,1,1),(1,1,1,1,1)])*(1/25) #filtro 3X3\n",
    "\n",
    "S = imagem.shape\n",
    "F = filt.shape\n",
    "\n",
    "imagemGray = cv2.cvtColor(imagem, cv2.COLOR_BGR2GRAY)\n",
    "cv2.imshow('original',imagemGray)\n",
    "cv2.waitKey(0)\n",
    "\n",
    "R = S[0] + F[0] - 1\n",
    "C = S[1] + F[1] - 1\n",
    "Z = np.zeros((R, C))\n",
    "\n",
    "for i in range(S[0]):\n",
    "    for j in range(S[1]):\n",
    "        Z[i+np.int((F[0]-1)/2), j+np.int((F[1]-1)/2)] = imagemGray[i,j]\n",
    "print(Z)\n",
    "\n",
    "for i in range(S[0]):\n",
    "    for j in range(S[1]):\n",
    "        k = Z[i:i+F[0], j: j+F[1]]\n",
    "        l = np.sum(k*filt)\n",
    "        ImagemGray[i,j]= l\n",
    "cv2.imshow('final', imagemGray)\n",
    "cv2.waitKey(0)\n",
    "    "
   ]
  },
  {
   "cell_type": "markdown",
   "id": "46299490",
   "metadata": {},
   "source": [
    "### 4- Filtro mediana m x n, com m e n ímpares, sobre as bandas R, G e B."
   ]
  },
  {
   "cell_type": "markdown",
   "id": "17c33f4a",
   "metadata": {},
   "source": [
    "### 5- Controle de saturação no HSB, seguido de conversão para RGB."
   ]
  },
  {
   "cell_type": "code",
   "execution_count": null,
   "id": "afd6947b",
   "metadata": {},
   "outputs": [],
   "source": [
    "#Shapes = Image.open('apple.png')\n",
    "#Shapes = Image.open('DancingInWater.jpg')\n",
    "#Shapes = Image.open('Shapes.png')\n",
    "#Shapes = Image.open('testpat.png')\n",
    "#ShapesArray = np.array(Shapes)\n",
    "\n",
    "import numpy as np \n",
    "from PIL import Image \n",
    "from PIL import ImageFilter\n",
    "from PIL import ImageEnhance\n",
    "from PIL import ImageOps\n",
    "import numpy as np\n",
    "import matplotlib.pyplot as plt\n",
    "import math\n",
    "import timeit\n",
    "import colorsys\n",
    " \n",
    "def im_rgb_to_hsb(s, image):\n",
    "    \n",
    "    teste = np.array(image, dtype=float)\n",
    "    rows = len(image)\n",
    "    columns = len(image[0])\n",
    "    for i in range(rows):\n",
    "        for j in range(columns):\n",
    "            teste[i][j] = colorsys.rgb_to_hsv(image[i][j][0], image[i][j][1], image[i][j][2])\n",
    "            \n",
    "            teste[i][j][1] = s\n",
    "            \n",
    "            teste[i][j] = colorsys.hsv_to_rgb(teste[i][j][0], teste[i][j][1], teste[i][j][2])\n",
    "    teste = np.array(teste, dtype=int)\n",
    "    \n",
    "    return teste\n",
    "\n",
    "Shapes = Image.open('apple.png')\n",
    "ShapesArray = np.array(Shapes)\n",
    "\n",
    "teste = im_rgb_to_hsb(1, ShapesArray)\n",
    "plt.imshow(teste)\n",
    "plt.show()  "
   ]
  },
  {
   "cell_type": "code",
   "execution_count": null,
   "id": "764a8f78",
   "metadata": {},
   "outputs": [],
   "source": []
  },
  {
   "cell_type": "code",
   "execution_count": null,
   "id": "c75e84f9",
   "metadata": {},
   "outputs": [],
   "source": []
  },
  {
   "cell_type": "code",
   "execution_count": null,
   "id": "e4814ae7",
   "metadata": {},
   "outputs": [],
   "source": [
    "from matplotlib.image import imread\n",
    "import matplotlib.pyplot as plt\n",
    "import numpy as np\n",
    "\n",
    "# #---------------------------------------------------------------------------------------------------------------------\n",
    "# PART I - Transforming an image from color to grayscale\n",
    "# #---------------------------------------------------------------------------------------------------------------------\n",
    "\n",
    "# Here we import the image file as an array of shape (nx, ny, nz)\n",
    "\n",
    "input_image = Image.open('apple.png')  # this is the array representation of the input image\n",
    "[nx, ny, nz] = np.shape(input_image)  # nx: height, ny: width, nz: colors (RGB)\n",
    "ShapesArray = np.array(input_image)\n",
    "# Extracting each one of the RGB components\n",
    "r_img, g_img, b_img = ShapesArray[:, :, 0], ShapesArray[:, :, 1], ShapesArray[:, :, 2]\n",
    "\n",
    "# The following operation will take weights and parameters to convert the color image to grayscale\n",
    "gamma = 1.400  # a parameter\n",
    "r_const, g_const, b_const = 0.2126, 0.7152, 0.0722  # weights for the RGB components respectively\n",
    "grayscale_image = r_const * r_img * gamma + g_const * g_img * gamma + b_const * b_img ** gamma\n",
    "\n",
    "# This command will display the grayscale image alongside the original image\n",
    "fig1 = plt.figure(1)\n",
    "ax1, ax2 = fig1.add_subplot(121), fig1.add_subplot(122)\n",
    "ax1.imshow(input_image)\n",
    "ax2.imshow(grayscale_image, cmap=plt.get_cmap('gray'))\n",
    "fig1.show()\n",
    "\n",
    "# Here we define the matrices associated with the Sobel filter\n",
    "Gx = np.array([[1.0, 0.0, -1.0], [2.0, 0.0, -2.0], [1.0, 0.0, -1.0]])\n",
    "Gy = np.array([[1.0, 2.0, 1.0], [0.0, 0.0, 0.0], [-1.0, -2.0, -1.0]])\n",
    "[rows, columns] = np.shape(grayscale_image)  # we need to know the shape of the input grayscale image\n",
    "sobel_filtered_image = np.zeros(shape=(rows, columns))  # initialization of the output image array (all elements are 0)\n",
    "\n",
    "# Now we \"sweep\" the image in both x and y directions and compute the output\n",
    "for i in range(rows - 2):\n",
    "    for j in range(columns - 2):\n",
    "        gx = np.sum(np.multiply(Gx, grayscale_image[i:i + 3, j:j + 3]))  # x direction\n",
    "        gy = np.sum(np.multiply(Gy, grayscale_image[i:i + 3, j:j + 3]))  # y direction\n",
    "        sobel_filtered_image[i + 1, j + 1] = np.sqrt(gx * 2 + gy * 2)  # calculate the \"hypotenuse\"\n",
    "\n",
    "# Display the original image and the Sobel filtered image\n",
    "fig2 = plt.figure(2)\n",
    "ax1, ax2 = fig2.add_subplot(121), fig2.add_subplot(122)\n",
    "ax1.imshow(input_image)\n",
    "ax2.imshow(sobel_filtered_image, cmap=plt.get_cmap('gray'))\n",
    "#plt.imshow(sobel_filtered_image)\n",
    "fig2.show()"
   ]
  }
 ],
 "metadata": {
  "kernelspec": {
   "display_name": "Python 3 (ipykernel)",
   "language": "python",
   "name": "python3"
  },
  "language_info": {
   "codemirror_mode": {
    "name": "ipython",
    "version": 3
   },
   "file_extension": ".py",
   "mimetype": "text/x-python",
   "name": "python",
   "nbconvert_exporter": "python",
   "pygments_lexer": "ipython3",
   "version": "3.9.12"
  }
 },
 "nbformat": 4,
 "nbformat_minor": 5
}
